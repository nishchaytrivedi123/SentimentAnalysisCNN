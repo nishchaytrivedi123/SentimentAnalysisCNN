{
  "nbformat": 4,
  "nbformat_minor": 0,
  "metadata": {
    "colab": {
      "name": "nlp_assignment_2.ipynb",
      "provenance": [],
      "collapsed_sections": []
    },
    "kernelspec": {
      "name": "python3",
      "display_name": "Python 3"
    },
    "accelerator": "GPU"
  },
  "cells": [
    {
      "cell_type": "code",
      "metadata": {
        "id": "h5jxGjrKDJ0m",
        "colab_type": "code",
        "outputId": "34dff443-7b01-4641-f860-28209fbccf15",
        "colab": {
          "base_uri": "https://localhost:8080/",
          "height": 253
        }
      },
      "source": [
        "import tensorflow.compat.v1 as tf\n",
        "tf.disable_v2_behavior()\n",
        "\n",
        "import pandas as pd\n",
        "\n",
        "from sklearn.model_selection import train_test_split\n",
        "\n",
        "from sklearn.model_selection import train_test_split\n",
        "import numpy as np\n",
        "import seaborn as sns\n",
        "import matplotlib.pyplot as plt\n",
        "sns.set(color_codes=True)\n",
        "\n",
        "import nltk \n",
        "import random \n",
        "from nltk.tokenize import word_tokenize\n",
        "\n",
        "nltk.download('punkt') \n",
        "nltk.download('stopwords') \n",
        "nltk.download('wordnet') "
      ],
      "execution_count": 1,
      "outputs": [
        {
          "output_type": "display_data",
          "data": {
            "text/html": [
              "<p style=\"color: red;\">\n",
              "The default version of TensorFlow in Colab will soon switch to TensorFlow 2.x.<br>\n",
              "We recommend you <a href=\"https://www.tensorflow.org/guide/migrate\" target=\"_blank\">upgrade</a> now \n",
              "or ensure your notebook will continue to use TensorFlow 1.x via the <code>%tensorflow_version 1.x</code> magic:\n",
              "<a href=\"https://colab.research.google.com/notebooks/tensorflow_version.ipynb\" target=\"_blank\">more info</a>.</p>\n"
            ],
            "text/plain": [
              "<IPython.core.display.HTML object>"
            ]
          },
          "metadata": {
            "tags": []
          }
        },
        {
          "output_type": "stream",
          "text": [
            "WARNING:tensorflow:From /tensorflow-1.15.0/python3.6/tensorflow_core/python/compat/v2_compat.py:68: disable_resource_variables (from tensorflow.python.ops.variable_scope) is deprecated and will be removed in a future version.\n",
            "Instructions for updating:\n",
            "non-resource variables are not supported in the long term\n",
            "[nltk_data] Downloading package punkt to /root/nltk_data...\n",
            "[nltk_data]   Unzipping tokenizers/punkt.zip.\n",
            "[nltk_data] Downloading package stopwords to /root/nltk_data...\n",
            "[nltk_data]   Unzipping corpora/stopwords.zip.\n",
            "[nltk_data] Downloading package wordnet to /root/nltk_data...\n",
            "[nltk_data]   Unzipping corpora/wordnet.zip.\n"
          ],
          "name": "stdout"
        },
        {
          "output_type": "execute_result",
          "data": {
            "text/plain": [
              "True"
            ]
          },
          "metadata": {
            "tags": []
          },
          "execution_count": 1
        }
      ]
    },
    {
      "cell_type": "code",
      "metadata": {
        "id": "AQfU9LLeDQjJ",
        "colab_type": "code",
        "outputId": "6129199f-9bce-4b98-c4fa-bd952a70ffd7",
        "colab": {
          "base_uri": "https://localhost:8080/",
          "height": 204
        }
      },
      "source": [
        "# Imported the necessary libraries\n",
        "\n",
        "import matplotlib.pyplot as plt\n",
        "from nltk import FreqDist\n",
        "import pandas as pd\n",
        "import numpy as np\n",
        "\n",
        "\n",
        "df = pd.read_csv(\"/content/drive/My Drive/train.tsv\",delimiter='\\t',encoding='utf-8')\n",
        "df.head()\n"
      ],
      "execution_count": 2,
      "outputs": [
        {
          "output_type": "execute_result",
          "data": {
            "text/html": [
              "<div>\n",
              "<style scoped>\n",
              "    .dataframe tbody tr th:only-of-type {\n",
              "        vertical-align: middle;\n",
              "    }\n",
              "\n",
              "    .dataframe tbody tr th {\n",
              "        vertical-align: top;\n",
              "    }\n",
              "\n",
              "    .dataframe thead th {\n",
              "        text-align: right;\n",
              "    }\n",
              "</style>\n",
              "<table border=\"1\" class=\"dataframe\">\n",
              "  <thead>\n",
              "    <tr style=\"text-align: right;\">\n",
              "      <th></th>\n",
              "      <th>PhraseId</th>\n",
              "      <th>SentenceId</th>\n",
              "      <th>Phrase</th>\n",
              "      <th>Sentiment</th>\n",
              "    </tr>\n",
              "  </thead>\n",
              "  <tbody>\n",
              "    <tr>\n",
              "      <th>0</th>\n",
              "      <td>1</td>\n",
              "      <td>1</td>\n",
              "      <td>A series of escapades demonstrating the adage ...</td>\n",
              "      <td>1</td>\n",
              "    </tr>\n",
              "    <tr>\n",
              "      <th>1</th>\n",
              "      <td>2</td>\n",
              "      <td>1</td>\n",
              "      <td>A series of escapades demonstrating the adage ...</td>\n",
              "      <td>2</td>\n",
              "    </tr>\n",
              "    <tr>\n",
              "      <th>2</th>\n",
              "      <td>3</td>\n",
              "      <td>1</td>\n",
              "      <td>A series</td>\n",
              "      <td>2</td>\n",
              "    </tr>\n",
              "    <tr>\n",
              "      <th>3</th>\n",
              "      <td>4</td>\n",
              "      <td>1</td>\n",
              "      <td>A</td>\n",
              "      <td>2</td>\n",
              "    </tr>\n",
              "    <tr>\n",
              "      <th>4</th>\n",
              "      <td>5</td>\n",
              "      <td>1</td>\n",
              "      <td>series</td>\n",
              "      <td>2</td>\n",
              "    </tr>\n",
              "  </tbody>\n",
              "</table>\n",
              "</div>"
            ],
            "text/plain": [
              "   PhraseId  ...  Sentiment\n",
              "0         1  ...          1\n",
              "1         2  ...          2\n",
              "2         3  ...          2\n",
              "3         4  ...          2\n",
              "4         5  ...          2\n",
              "\n",
              "[5 rows x 4 columns]"
            ]
          },
          "metadata": {
            "tags": []
          },
          "execution_count": 2
        }
      ]
    },
    {
      "cell_type": "code",
      "metadata": {
        "id": "I_QssFc89O3m",
        "colab_type": "code",
        "outputId": "91e7bbec-d10f-4ece-c89e-e8812c7bc263",
        "colab": {
          "base_uri": "https://localhost:8080/",
          "height": 301
        }
      },
      "source": [
        "unique, counts = np.unique(df['Sentiment'], return_counts=True)\n",
        "\n",
        "plt.bar(unique, counts, 1)\n",
        "\n",
        "plt.title('Class Frequency')\n",
        "plt.xlabel('Class')\n",
        "plt.ylabel('Frequency')\n",
        "plt.savefig('class_dist.jpg')\n",
        "plt.show()\n"
      ],
      "execution_count": 3,
      "outputs": [
        {
          "output_type": "display_data",
          "data": {
            "image/png": "[encoded data removed]",
            "text/plain": [
              "<Figure size 432x288 with 1 Axes>"
            ]
          },
          "metadata": {
            "tags": []
          }
        }
      ]
    },
    {
      "cell_type": "code",
      "metadata": {
        "id": "ZrIXohCZD03Q",
        "colab_type": "code",
        "outputId": "b261884f-877d-4781-ff3f-4a0d2ebeb23d",
        "colab": {
          "base_uri": "https://localhost:8080/",
          "height": 204
        }
      },
      "source": [
        "dataset = df.sample(frac=1).reset_index(drop=True)\n",
        "dataset.head()"
      ],
      "execution_count": 4,
      "outputs": [
        {
          "output_type": "execute_result",
          "data": {
            "text/html": [
              "<div>\n",
              "<style scoped>\n",
              "    .dataframe tbody tr th:only-of-type {\n",
              "        vertical-align: middle;\n",
              "    }\n",
              "\n",
              "    .dataframe tbody tr th {\n",
              "        vertical-align: top;\n",
              "    }\n",
              "\n",
              "    .dataframe thead th {\n",
              "        text-align: right;\n",
              "    }\n",
              "</style>\n",
              "<table border=\"1\" class=\"dataframe\">\n",
              "  <thead>\n",
              "    <tr style=\"text-align: right;\">\n",
              "      <th></th>\n",
              "      <th>PhraseId</th>\n",
              "      <th>SentenceId</th>\n",
              "      <th>Phrase</th>\n",
              "      <th>Sentiment</th>\n",
              "    </tr>\n",
              "  </thead>\n",
              "  <tbody>\n",
              "    <tr>\n",
              "      <th>0</th>\n",
              "      <td>99516</td>\n",
              "      <td>5218</td>\n",
              "      <td>dysfunctionally</td>\n",
              "      <td>2</td>\n",
              "    </tr>\n",
              "    <tr>\n",
              "      <th>1</th>\n",
              "      <td>111952</td>\n",
              "      <td>5942</td>\n",
              "      <td>essentially ruined -- or , rather</td>\n",
              "      <td>1</td>\n",
              "    </tr>\n",
              "    <tr>\n",
              "      <th>2</th>\n",
              "      <td>122259</td>\n",
              "      <td>6553</td>\n",
              "      <td>connect and express</td>\n",
              "      <td>2</td>\n",
              "    </tr>\n",
              "    <tr>\n",
              "      <th>3</th>\n",
              "      <td>14969</td>\n",
              "      <td>643</td>\n",
              "      <td>cold movie</td>\n",
              "      <td>1</td>\n",
              "    </tr>\n",
              "    <tr>\n",
              "      <th>4</th>\n",
              "      <td>55848</td>\n",
              "      <td>2792</td>\n",
              "      <td>controlling his crew</td>\n",
              "      <td>2</td>\n",
              "    </tr>\n",
              "  </tbody>\n",
              "</table>\n",
              "</div>"
            ],
            "text/plain": [
              "   PhraseId  SentenceId                             Phrase  Sentiment\n",
              "0     99516        5218                    dysfunctionally          2\n",
              "1    111952        5942  essentially ruined -- or , rather          1\n",
              "2    122259        6553                connect and express          2\n",
              "3     14969         643                         cold movie          1\n",
              "4     55848        2792               controlling his crew          2"
            ]
          },
          "metadata": {
            "tags": []
          },
          "execution_count": 4
        }
      ]
    },
    {
      "cell_type": "code",
      "metadata": {
        "id": "sdaEnYHgD2Eh",
        "colab_type": "code",
        "outputId": "8bd3aa1d-e2ed-4d6e-e82f-e54b4b968ff9",
        "colab": {
          "base_uri": "https://localhost:8080/",
          "height": 34
        }
      },
      "source": [
        "X_train, X_test, Y_train, Y_test = train_test_split(dataset ['Phrase'], dataset ['Sentiment'], test_size=0.3, random_state=2003)\n",
        "documents=[]\n",
        "\n",
        "X_train = np.array(X_train.values.tolist())\n",
        "Y_train = np.array(Y_train.values.tolist())\n",
        "\n",
        "\n",
        "for i in range(len(X_train)):\n",
        "  documents.append([list(word_tokenize(X_train[i])), Y_train[i]]) \n",
        "\n",
        "X_test = np.array(X_test.values.tolist())\n",
        "Y_test = np.array(Y_test.values.tolist())\n",
        "for i in range(len(X_test)):\n",
        "  documents.append([list(word_tokenize(X_test[i])), Y_test[i]]) \n",
        "\n",
        "documents[0]"
      ],
      "execution_count": 5,
      "outputs": [
        {
          "output_type": "execute_result",
          "data": {
            "text/plain": [
              "[['A', 'comedy-drama', 'of', 'nearly', 'epic', 'proportions'], 3]"
            ]
          },
          "metadata": {
            "tags": []
          },
          "execution_count": 5
        }
      ]
    },
    {
      "cell_type": "code",
      "metadata": {
        "id": "Ayc1oDMWD99o",
        "colab_type": "code",
        "colab": {}
      },
      "source": [
        "from nltk.corpus import stopwords \n",
        "from nltk.stem import WordNetLemmatizer, PorterStemmer, LancasterStemmer \n",
        "porter = PorterStemmer() \n",
        "lancaster=LancasterStemmer() \n",
        "wordnet_lemmatizer = WordNetLemmatizer() \n",
        "stopwords_en = stopwords.words(\"english\") \n",
        "punctuations=\"?:!.,;'\\\"-()\"\n",
        "#parameters to adjust to see the impact on outcome \n",
        "remove_stopwords = True\n",
        "useStemming = False\n",
        "useLemma = False\n",
        "removePuncs = True\n"
      ],
      "execution_count": 0,
      "outputs": []
    },
    {
      "cell_type": "code",
      "metadata": {
        "id": "p4gzs2cpEB2L",
        "colab_type": "code",
        "outputId": "d76fa2b4-e3ca-46b3-ca46-5d7938fea29a",
        "colab": {
          "base_uri": "https://localhost:8080/",
          "height": 34
        }
      },
      "source": [
        "for l in range(len(documents)):                   #For each review document \n",
        "  label = documents[l][1]                         #Save review label \n",
        "  tmpReview = []                                  #Placeholder list for new review \n",
        "  for w in documents[l][0]:                       #For each word this is review \n",
        "    newWord = w                                   #Set newWork to be the updated word \n",
        "    if remove_stopwords and (w in stopwords_en):  #if the word is a stopword & we want to remove stopwords \n",
        "      continue                                    #skip the word and don’t had it to the normalized review \n",
        "    if removePuncs and (w in punctuations):       #if the word is a punc. & we want to remove punctuations \n",
        "      continue                                    #skip the word and don’t had it to the normalized review \n",
        "    if useStemming:\n",
        "      #if useStemming is set to True \n",
        "      #Keep one stemmer commented out \n",
        "      #newWord = porter.stem(newWord) #User porter stemmer \n",
        "      newWord = lancaster.stem(newWord) #Use Lancaster stemmer \n",
        "    if useLemma: \n",
        "      newWord = wordnet_lemmatizer.lemmatize(newWord) \n",
        "    tmpReview.append(newWord)                     #Add normalized word to the tmp review \n",
        "  documents[l] = (tmpReview, label)             #Update the reviews list with clean review \n",
        "  documents[l] = (' '.join(tmpReview), label) \n",
        "\n",
        "print(documents[0])"
      ],
      "execution_count": 7,
      "outputs": [
        {
          "output_type": "stream",
          "text": [
            "('A comedy-drama nearly epic proportions', 3)\n"
          ],
          "name": "stdout"
        }
      ]
    },
    {
      "cell_type": "code",
      "metadata": {
        "id": "pU7TEahEEDFx",
        "colab_type": "code",
        "outputId": "08dd5543-f548-4311-a5db-0a4c072fe8fb",
        "colab": {
          "base_uri": "https://localhost:8080/",
          "height": 669
        }
      },
      "source": [
        "data = pd.DataFrame(documents, columns=['text', 'sentiment']) \n",
        "data.head(20)"
      ],
      "execution_count": 8,
      "outputs": [
        {
          "output_type": "execute_result",
          "data": {
            "text/html": [
              "<div>\n",
              "<style scoped>\n",
              "    .dataframe tbody tr th:only-of-type {\n",
              "        vertical-align: middle;\n",
              "    }\n",
              "\n",
              "    .dataframe tbody tr th {\n",
              "        vertical-align: top;\n",
              "    }\n",
              "\n",
              "    .dataframe thead th {\n",
              "        text-align: right;\n",
              "    }\n",
              "</style>\n",
              "<table border=\"1\" class=\"dataframe\">\n",
              "  <thead>\n",
              "    <tr style=\"text-align: right;\">\n",
              "      <th></th>\n",
              "      <th>text</th>\n",
              "      <th>sentiment</th>\n",
              "    </tr>\n",
              "  </thead>\n",
              "  <tbody>\n",
              "    <tr>\n",
              "      <th>0</th>\n",
              "      <td>A comedy-drama nearly epic proportions</td>\n",
              "      <td>3</td>\n",
              "    </tr>\n",
              "    <tr>\n",
              "      <th>1</th>\n",
              "      <td>action-packed experience ringside seat tough-m...</td>\n",
              "      <td>3</td>\n",
              "    </tr>\n",
              "    <tr>\n",
              "      <th>2</th>\n",
              "      <td>Performances around tops two leads delivering ...</td>\n",
              "      <td>3</td>\n",
              "    </tr>\n",
              "    <tr>\n",
              "      <th>3</th>\n",
              "      <td>generalities</td>\n",
              "      <td>2</td>\n",
              "    </tr>\n",
              "    <tr>\n",
              "      <th>4</th>\n",
              "      <td>'ll rewarded fine acting</td>\n",
              "      <td>4</td>\n",
              "    </tr>\n",
              "    <tr>\n",
              "      <th>5</th>\n",
              "      <td>crawl \\*\\*\\* embarrassment</td>\n",
              "      <td>1</td>\n",
              "    </tr>\n",
              "    <tr>\n",
              "      <th>6</th>\n",
              "      <td>old-fashioned</td>\n",
              "      <td>1</td>\n",
              "    </tr>\n",
              "    <tr>\n",
              "      <th>7</th>\n",
              "      <td>one lucky</td>\n",
              "      <td>2</td>\n",
              "    </tr>\n",
              "    <tr>\n",
              "      <th>8</th>\n",
              "      <td>places world devastated war famine poverty doc...</td>\n",
              "      <td>2</td>\n",
              "    </tr>\n",
              "    <tr>\n",
              "      <th>9</th>\n",
              "      <td>` inside</td>\n",
              "      <td>2</td>\n",
              "    </tr>\n",
              "    <tr>\n",
              "      <th>10</th>\n",
              "      <td>dry dry</td>\n",
              "      <td>2</td>\n",
              "    </tr>\n",
              "    <tr>\n",
              "      <th>11</th>\n",
              "      <td>kiddie</td>\n",
              "      <td>2</td>\n",
              "    </tr>\n",
              "    <tr>\n",
              "      <th>12</th>\n",
              "      <td>crush</td>\n",
              "      <td>1</td>\n",
              "    </tr>\n",
              "    <tr>\n",
              "      <th>13</th>\n",
              "      <td>used tool rally anti-Catholic protestors</td>\n",
              "      <td>2</td>\n",
              "    </tr>\n",
              "    <tr>\n",
              "      <th>14</th>\n",
              "      <td>felt Craven A Nightmare Elm Street ` The Hills...</td>\n",
              "      <td>1</td>\n",
              "    </tr>\n",
              "    <tr>\n",
              "      <th>15</th>\n",
              "      <td>unexpected fizzability</td>\n",
              "      <td>2</td>\n",
              "    </tr>\n",
              "    <tr>\n",
              "      <th>16</th>\n",
              "      <td>contrived overblown tie-in ready</td>\n",
              "      <td>0</td>\n",
              "    </tr>\n",
              "    <tr>\n",
              "      <th>17</th>\n",
              "      <td>technical proficiency</td>\n",
              "      <td>3</td>\n",
              "    </tr>\n",
              "    <tr>\n",
              "      <th>18</th>\n",
              "      <td>many conflicts</td>\n",
              "      <td>1</td>\n",
              "    </tr>\n",
              "    <tr>\n",
              "      <th>19</th>\n",
              "      <td>outgag</td>\n",
              "      <td>2</td>\n",
              "    </tr>\n",
              "  </tbody>\n",
              "</table>\n",
              "</div>"
            ],
            "text/plain": [
              "                                                 text  sentiment\n",
              "0              A comedy-drama nearly epic proportions          3\n",
              "1   action-packed experience ringside seat tough-m...          3\n",
              "2   Performances around tops two leads delivering ...          3\n",
              "3                                        generalities          2\n",
              "4                            'll rewarded fine acting          4\n",
              "5                          crawl \\*\\*\\* embarrassment          1\n",
              "6                                       old-fashioned          1\n",
              "7                                           one lucky          2\n",
              "8   places world devastated war famine poverty doc...          2\n",
              "9                                            ` inside          2\n",
              "10                                            dry dry          2\n",
              "11                                             kiddie          2\n",
              "12                                              crush          1\n",
              "13           used tool rally anti-Catholic protestors          2\n",
              "14  felt Craven A Nightmare Elm Street ` The Hills...          1\n",
              "15                             unexpected fizzability          2\n",
              "16                   contrived overblown tie-in ready          0\n",
              "17                              technical proficiency          3\n",
              "18                                     many conflicts          1\n",
              "19                                             outgag          2"
            ]
          },
          "metadata": {
            "tags": []
          },
          "execution_count": 8
        }
      ]
    },
    {
      "cell_type": "code",
      "metadata": {
        "id": "s9OtVctjEFgf",
        "colab_type": "code",
        "colab": {}
      },
      "source": [
        "X_train, X_test, Y_train, Y_test = train_test_split(data['text'],  data['sentiment'], test_size=0.3, random_state=2003)"
      ],
      "execution_count": 0,
      "outputs": []
    },
    {
      "cell_type": "code",
      "metadata": {
        "id": "PY2GbK4yEMvy",
        "colab_type": "code",
        "outputId": "046797cc-b7a2-4754-e804-285ad4f37cd2",
        "colab": {
          "base_uri": "https://localhost:8080/",
          "height": 34
        }
      },
      "source": [
        "from sklearn.feature_extraction.text import CountVectorizer , TfidfVectorizer\n",
        "from keras.utils import to_categorical\n",
        "\n",
        "vectorizer = TfidfVectorizer(max_features = 2000,ngram_range=(2, 2)) \n",
        "X = vectorizer.fit_transform(data[\"text\"]) \n",
        "Y = data['sentiment'] \n",
        " \n",
        "X_train = vectorizer.transform(X_train).toarray()\n",
        "Y_train = Y_train \n",
        "X_test = vectorizer.transform(X_test).toarray()\n",
        "Y_test = Y_test\n"
      ],
      "execution_count": 10,
      "outputs": [
        {
          "output_type": "stream",
          "text": [
            "Using TensorFlow backend.\n"
          ],
          "name": "stderr"
        }
      ]
    },
    {
      "cell_type": "code",
      "metadata": {
        "id": "WhruvWtTEf7R",
        "colab_type": "code",
        "colab": {}
      },
      "source": [
        ""
      ],
      "execution_count": 0,
      "outputs": []
    },
    {
      "cell_type": "code",
      "metadata": {
        "id": "5f9CLqaGEe7b",
        "colab_type": "code",
        "colab": {}
      },
      "source": [
        ""
      ],
      "execution_count": 0,
      "outputs": []
    },
    {
      "cell_type": "code",
      "metadata": {
        "id": "EKPrQr61EQvG",
        "colab_type": "code",
        "colab": {}
      },
      "source": [
        "# # Converts the datasets to numpy arrays to work with our PyTorch model \n",
        "# X_train = np.array(X_train)\n",
        "# X_train = X_train.toarray() \n",
        "# Y_train = np.array(Y_train)\n",
        "\n",
        "# # Convert the testing data \n",
        "# X_test = X_test.toarray() \n",
        "# Y_test = np.array(Y_test)\n",
        "# print(x_train_np.shape)"
      ],
      "execution_count": 0,
      "outputs": []
    },
    {
      "cell_type": "code",
      "metadata": {
        "id": "1G3jKeNzE1Vt",
        "colab_type": "code",
        "colab": {}
      },
      "source": [
        "import keras\n",
        "from keras.datasets import mnist\n",
        "from keras.models import Sequential\n",
        "from keras.layers import Dense, Dropout, Flatten\n",
        "from keras.layers import Conv1D, MaxPooling1D\n",
        "from keras import backend as K"
      ],
      "execution_count": 0,
      "outputs": []
    },
    {
      "cell_type": "code",
      "metadata": {
        "id": "SjLFybl4Egr-",
        "colab_type": "code",
        "colab": {}
      },
      "source": [
        "batch_size = 64\n",
        "num_classes = 5\n",
        "epochs = 12"
      ],
      "execution_count": 0,
      "outputs": []
    },
    {
      "cell_type": "code",
      "metadata": {
        "id": "ms-h9PvdEkhz",
        "colab_type": "code",
        "outputId": "1ab02872-e0bc-4739-9e4b-2fcb65b2a481",
        "colab": {
          "base_uri": "https://localhost:8080/",
          "height": 34
        }
      },
      "source": [
        "X_train.shape\n",
        "# Y_train = to_categorical(Y_train,5)\n",
        "# y_test = to_categorical(y_test,5)"
      ],
      "execution_count": 14,
      "outputs": [
        {
          "output_type": "execute_result",
          "data": {
            "text/plain": [
              "(109242, 2000)"
            ]
          },
          "metadata": {
            "tags": []
          },
          "execution_count": 14
        }
      ]
    },
    {
      "cell_type": "code",
      "metadata": {
        "id": "DkP1wOnxEnlU",
        "colab_type": "code",
        "colab": {}
      },
      "source": [
        "Y_train = keras.utils.to_categorical(Y_train, num_classes)\n",
        "Y_test = keras.utils.to_categorical(Y_test, num_classes)\n"
      ],
      "execution_count": 0,
      "outputs": []
    },
    {
      "cell_type": "code",
      "metadata": {
        "id": "gyDhDdDRE5NK",
        "colab_type": "code",
        "colab": {}
      },
      "source": [
        "\n",
        "from keras.preprocessing import sequence,text\n",
        "from keras.preprocessing.text import Tokenizer\n",
        "from keras.models import Sequential\n",
        "from keras.layers import Input, Dense, Embedding, Flatten, GlobalAveragePooling1D\n",
        "from keras.layers import SpatialDropout1D\n",
        "from keras.layers.convolutional import Conv1D, MaxPooling1D\n",
        "from keras.models import Sequential\n"
      ],
      "execution_count": 0,
      "outputs": []
    },
    {
      "cell_type": "code",
      "metadata": {
        "id": "ZrByIwfSSbsD",
        "colab_type": "code",
        "outputId": "c83ab22c-6674-4a0c-db04-084d0a746fe4",
        "colab": {
          "base_uri": "https://localhost:8080/",
          "height": 258
        }
      },
      "source": [
        "\n",
        "model = Sequential()\n",
        "model.add(Conv1D(128, 10,  activation='relu', input_shape=(2000,1)))\n",
        "model.add(Conv1D(128, 10, activation='relu'))\n",
        "model.add(MaxPooling1D(pool_size=3))\n",
        "model.add(Conv1D(256, 10, activation='relu', input_shape=(2000,1)))\n",
        "model.add(Conv1D(256, 10, activation='relu'))\n",
        "# model.add(MaxPooling1D(pool_size=3))\n",
        "model.add(GlobalAveragePooling1D())\n",
        "model.add(Dropout(rate = 0.50))\n",
        "# model.add(Flatten())\n",
        "# model.add(Dense(64, activation='relu'))\n",
        "# model.add(Dropout(0.5))\n",
        "model.add(Dense(num_classes, activation='softmax'))\n"
      ],
      "execution_count": 17,
      "outputs": [
        {
          "output_type": "stream",
          "text": [
            "WARNING:tensorflow:From /usr/local/lib/python3.6/dist-packages/keras/backend/tensorflow_backend.py:66: The name tf.get_default_graph is deprecated. Please use tf.compat.v1.get_default_graph instead.\n",
            "\n",
            "WARNING:tensorflow:From /usr/local/lib/python3.6/dist-packages/keras/backend/tensorflow_backend.py:541: The name tf.placeholder is deprecated. Please use tf.compat.v1.placeholder instead.\n",
            "\n",
            "WARNING:tensorflow:From /usr/local/lib/python3.6/dist-packages/keras/backend/tensorflow_backend.py:4432: The name tf.random_uniform is deprecated. Please use tf.random.uniform instead.\n",
            "\n",
            "WARNING:tensorflow:From /usr/local/lib/python3.6/dist-packages/keras/backend/tensorflow_backend.py:4267: The name tf.nn.max_pool is deprecated. Please use tf.nn.max_pool2d instead.\n",
            "\n",
            "WARNING:tensorflow:From /usr/local/lib/python3.6/dist-packages/keras/backend/tensorflow_backend.py:148: The name tf.placeholder_with_default is deprecated. Please use tf.compat.v1.placeholder_with_default instead.\n",
            "\n",
            "WARNING:tensorflow:From /usr/local/lib/python3.6/dist-packages/keras/backend/tensorflow_backend.py:3733: calling dropout (from tensorflow.python.ops.nn_ops) with keep_prob is deprecated and will be removed in a future version.\n",
            "Instructions for updating:\n",
            "Please use `rate` instead of `keep_prob`. Rate should be set to `rate = 1 - keep_prob`.\n"
          ],
          "name": "stdout"
        }
      ]
    },
    {
      "cell_type": "code",
      "metadata": {
        "id": "rv0Vje_1E-oW",
        "colab_type": "code",
        "colab": {}
      },
      "source": [
        "from keras import backend as K\n",
        "\n",
        "def recall_m(y_true, y_pred):\n",
        "    true_positives = K.sum(K.round(K.clip(y_true * y_pred, 0, 1)))\n",
        "    possible_positives = K.sum(K.round(K.clip(y_true, 0, 1)))\n",
        "    recall = true_positives / (possible_positives + K.epsilon())\n",
        "    return recall\n",
        "\n",
        "def precision_m(y_true, y_pred):\n",
        "    true_positives = K.sum(K.round(K.clip(y_true * y_pred, 0, 1)))\n",
        "    predicted_positives = K.sum(K.round(K.clip(y_pred, 0, 1)))\n",
        "    precision = true_positives / (predicted_positives + K.epsilon())\n",
        "    return precision\n",
        "\n",
        "def f1_m(y_true, y_pred):\n",
        "    precision = precision_m(y_true, y_pred)\n",
        "    recall = recall_m(y_true, y_pred)\n",
        "    return 2*((precision*recall)/(precision+recall+K.epsilon()))\n",
        "\n",
        "model.compile(optimizer='Adam', loss='binary_crossentropy', metrics=['acc',f1_m,precision_m, recall_m])\n",
        "\n",
        "# model.compile(loss=keras.losses.categorical_crossentropy,\n",
        "#               optimizer=keras.optimizers.Adam(),\n",
        "#               metrics=['accuracy'])"
      ],
      "execution_count": 0,
      "outputs": []
    },
    {
      "cell_type": "code",
      "metadata": {
        "id": "bIW1tqKkFAe7",
        "colab_type": "code",
        "colab": {}
      },
      "source": [
        "X_train = X_train.reshape(X_train.shape[0], X_train.shape[1], 1)\n",
        "X_test = X_test.reshape(X_test.shape[0], X_test.shape[1], 1)"
      ],
      "execution_count": 0,
      "outputs": []
    },
    {
      "cell_type": "code",
      "metadata": {
        "id": "GiNvnHRSFCa4",
        "colab_type": "code",
        "outputId": "4b292a4e-316c-4999-b140-9071e3598719",
        "colab": {
          "base_uri": "https://localhost:8080/",
          "height": 1000
        }
      },
      "source": [
        "model.fit(X_train, Y_train,\n",
        "          batch_size=64,\n",
        "          epochs=50)\n",
        "# _, accuracy = model.evaluate(X_test, Y_test, batch_size=batch_size, verbose=0)\n",
        "# score = model.evaluate(X_test, Y_test, verbose=0)\n",
        "# print('Test loss:', score[0])\n",
        "# print('Test accuracy:', score[1])\n",
        "\n",
        "# model.save('1106924_1dconv_reg.h5')\n"
      ],
      "execution_count": 25,
      "outputs": [
        {
          "output_type": "stream",
          "text": [
            "Epoch 1/50\n",
            "109242/109242 [==============================] - 80s 734us/step - loss: 0.4119 - acc: 0.8154 - f1_m: 0.4746 - precision_m: 0.5512 - recall_m: 0.4176\n",
            "Epoch 2/50\n",
            "109242/109242 [==============================] - 80s 733us/step - loss: 0.4119 - acc: 0.8154 - f1_m: 0.4744 - precision_m: 0.5507 - recall_m: 0.4176\n",
            "Epoch 3/50\n",
            "109242/109242 [==============================] - 80s 729us/step - loss: 0.4119 - acc: 0.8153 - f1_m: 0.4731 - precision_m: 0.5501 - recall_m: 0.4163\n",
            "Epoch 4/50\n",
            "109242/109242 [==============================] - 79s 722us/step - loss: 0.4119 - acc: 0.8153 - f1_m: 0.4720 - precision_m: 0.5498 - recall_m: 0.4151\n",
            "Epoch 5/50\n",
            "109242/109242 [==============================] - 79s 723us/step - loss: 0.4119 - acc: 0.8154 - f1_m: 0.4746 - precision_m: 0.5508 - recall_m: 0.4179\n",
            "Epoch 6/50\n",
            "109242/109242 [==============================] - 79s 723us/step - loss: 0.4120 - acc: 0.8153 - f1_m: 0.4716 - precision_m: 0.5500 - recall_m: 0.4148\n",
            "Epoch 7/50\n",
            "109242/109242 [==============================] - 79s 722us/step - loss: 0.4123 - acc: 0.8152 - f1_m: 0.4739 - precision_m: 0.5499 - recall_m: 0.4173\n",
            "Epoch 8/50\n",
            "109242/109242 [==============================] - 79s 721us/step - loss: 0.4119 - acc: 0.8154 - f1_m: 0.4747 - precision_m: 0.5509 - recall_m: 0.4179\n",
            "Epoch 9/50\n",
            "109242/109242 [==============================] - 79s 721us/step - loss: 0.4119 - acc: 0.8155 - f1_m: 0.4748 - precision_m: 0.5508 - recall_m: 0.4180\n",
            "Epoch 10/50\n",
            "109242/109242 [==============================] - 79s 721us/step - loss: 0.4120 - acc: 0.8154 - f1_m: 0.4746 - precision_m: 0.5509 - recall_m: 0.4178\n",
            "Epoch 11/50\n",
            "109242/109242 [==============================] - 79s 720us/step - loss: 0.4120 - acc: 0.8154 - f1_m: 0.4737 - precision_m: 0.5509 - recall_m: 0.4169\n",
            "Epoch 12/50\n",
            "109242/109242 [==============================] - 79s 721us/step - loss: 0.4119 - acc: 0.8154 - f1_m: 0.4748 - precision_m: 0.5509 - recall_m: 0.4180\n",
            "Epoch 13/50\n",
            "109242/109242 [==============================] - 79s 720us/step - loss: 0.4120 - acc: 0.8153 - f1_m: 0.4737 - precision_m: 0.5504 - recall_m: 0.4169\n",
            "Epoch 14/50\n",
            "109242/109242 [==============================] - 79s 720us/step - loss: 0.4119 - acc: 0.8154 - f1_m: 0.4746 - precision_m: 0.5508 - recall_m: 0.4179\n",
            "Epoch 15/50\n",
            "109242/109242 [==============================] - 79s 721us/step - loss: 0.4120 - acc: 0.8153 - f1_m: 0.4735 - precision_m: 0.5506 - recall_m: 0.4167\n",
            "Epoch 16/50\n",
            "109242/109242 [==============================] - 79s 721us/step - loss: 0.4120 - acc: 0.8154 - f1_m: 0.4740 - precision_m: 0.5509 - recall_m: 0.4172\n",
            "Epoch 17/50\n",
            "109242/109242 [==============================] - 79s 726us/step - loss: 0.4120 - acc: 0.8154 - f1_m: 0.4743 - precision_m: 0.5508 - recall_m: 0.4176\n",
            "Epoch 18/50\n",
            "109242/109242 [==============================] - 79s 728us/step - loss: 0.4120 - acc: 0.8154 - f1_m: 0.4731 - precision_m: 0.5508 - recall_m: 0.4162\n",
            "Epoch 19/50\n",
            "109242/109242 [==============================] - 79s 727us/step - loss: 0.4119 - acc: 0.8154 - f1_m: 0.4742 - precision_m: 0.5502 - recall_m: 0.4176\n",
            "Epoch 20/50\n",
            "109242/109242 [==============================] - 79s 720us/step - loss: 0.4120 - acc: 0.8154 - f1_m: 0.4749 - precision_m: 0.5509 - recall_m: 0.4182\n",
            "Epoch 21/50\n",
            "109242/109242 [==============================] - 79s 721us/step - loss: 0.4120 - acc: 0.8154 - f1_m: 0.4744 - precision_m: 0.5505 - recall_m: 0.4180\n",
            "Epoch 22/50\n",
            "109242/109242 [==============================] - 79s 720us/step - loss: 0.4120 - acc: 0.8154 - f1_m: 0.4738 - precision_m: 0.5506 - recall_m: 0.4173\n",
            "Epoch 23/50\n",
            "109242/109242 [==============================] - 79s 720us/step - loss: 0.4121 - acc: 0.8154 - f1_m: 0.4750 - precision_m: 0.5505 - recall_m: 0.4186\n",
            "Epoch 24/50\n",
            "109242/109242 [==============================] - 79s 720us/step - loss: 0.4120 - acc: 0.8154 - f1_m: 0.4745 - precision_m: 0.5506 - recall_m: 0.4180\n",
            "Epoch 25/50\n",
            "109242/109242 [==============================] - 79s 721us/step - loss: 0.4120 - acc: 0.8154 - f1_m: 0.4746 - precision_m: 0.5504 - recall_m: 0.4182\n",
            "Epoch 26/50\n",
            "109242/109242 [==============================] - 80s 730us/step - loss: 0.4122 - acc: 0.8153 - f1_m: 0.4731 - precision_m: 0.5503 - recall_m: 0.4166\n",
            "Epoch 27/50\n",
            "109242/109242 [==============================] - 80s 733us/step - loss: 0.4120 - acc: 0.8152 - f1_m: 0.4738 - precision_m: 0.5500 - recall_m: 0.4174\n",
            "Epoch 28/50\n",
            "109242/109242 [==============================] - 80s 732us/step - loss: 0.4120 - acc: 0.8154 - f1_m: 0.4752 - precision_m: 0.5506 - recall_m: 0.4189\n",
            "Epoch 29/50\n",
            "109242/109242 [==============================] - 79s 721us/step - loss: 0.4121 - acc: 0.8153 - f1_m: 0.4728 - precision_m: 0.5501 - recall_m: 0.4162\n",
            "Epoch 30/50\n",
            "109242/109242 [==============================] - 79s 720us/step - loss: 0.4121 - acc: 0.8154 - f1_m: 0.4748 - precision_m: 0.5505 - recall_m: 0.4183\n",
            "Epoch 31/50\n",
            "109242/109242 [==============================] - 79s 721us/step - loss: 0.4121 - acc: 0.8154 - f1_m: 0.4751 - precision_m: 0.5506 - recall_m: 0.4187\n",
            "Epoch 32/50\n",
            "109242/109242 [==============================] - 79s 721us/step - loss: 0.4121 - acc: 0.8153 - f1_m: 0.4735 - precision_m: 0.5498 - recall_m: 0.4169\n",
            "Epoch 33/50\n",
            "109242/109242 [==============================] - 79s 721us/step - loss: 0.4120 - acc: 0.8154 - f1_m: 0.4750 - precision_m: 0.5506 - recall_m: 0.4185\n",
            "Epoch 34/50\n",
            "109242/109242 [==============================] - 79s 721us/step - loss: 0.4121 - acc: 0.8154 - f1_m: 0.4733 - precision_m: 0.5502 - recall_m: 0.4170\n",
            "Epoch 35/50\n",
            "109242/109242 [==============================] - 79s 720us/step - loss: 0.4120 - acc: 0.8153 - f1_m: 0.4746 - precision_m: 0.5506 - recall_m: 0.4181\n",
            "Epoch 36/50\n",
            "109242/109242 [==============================] - 79s 720us/step - loss: 0.4121 - acc: 0.8153 - f1_m: 0.4748 - precision_m: 0.5502 - recall_m: 0.4185\n",
            "Epoch 37/50\n",
            "109242/109242 [==============================] - 79s 720us/step - loss: 0.4121 - acc: 0.8155 - f1_m: 0.4753 - precision_m: 0.5507 - recall_m: 0.4189\n",
            "Epoch 38/50\n",
            "109242/109242 [==============================] - 79s 720us/step - loss: 0.4122 - acc: 0.8153 - f1_m: 0.4743 - precision_m: 0.5506 - recall_m: 0.4177\n",
            "Epoch 39/50\n",
            "109242/109242 [==============================] - 79s 720us/step - loss: 0.4121 - acc: 0.8154 - f1_m: 0.4742 - precision_m: 0.5498 - recall_m: 0.4180\n",
            "Epoch 40/50\n",
            "109242/109242 [==============================] - 79s 720us/step - loss: 0.4123 - acc: 0.8154 - f1_m: 0.4750 - precision_m: 0.5502 - recall_m: 0.4187\n",
            "Epoch 41/50\n",
            "109242/109242 [==============================] - 79s 721us/step - loss: 0.4121 - acc: 0.8154 - f1_m: 0.4745 - precision_m: 0.5506 - recall_m: 0.4179\n",
            "Epoch 42/50\n",
            "109242/109242 [==============================] - 79s 719us/step - loss: 0.4121 - acc: 0.8154 - f1_m: 0.4746 - precision_m: 0.5507 - recall_m: 0.4180\n",
            "Epoch 43/50\n",
            "109242/109242 [==============================] - 79s 719us/step - loss: 0.4120 - acc: 0.8153 - f1_m: 0.4749 - precision_m: 0.5507 - recall_m: 0.4183\n",
            "Epoch 44/50\n",
            "109242/109242 [==============================] - 79s 721us/step - loss: 0.4120 - acc: 0.8154 - f1_m: 0.4750 - precision_m: 0.5504 - recall_m: 0.4187\n",
            "Epoch 45/50\n",
            "109242/109242 [==============================] - 79s 720us/step - loss: 0.4126 - acc: 0.8153 - f1_m: 0.4738 - precision_m: 0.5505 - recall_m: 0.4171\n",
            "Epoch 46/50\n",
            "109242/109242 [==============================] - 79s 721us/step - loss: 0.4122 - acc: 0.8153 - f1_m: 0.4746 - precision_m: 0.5504 - recall_m: 0.4182\n",
            "Epoch 47/50\n",
            "109242/109242 [==============================] - 80s 729us/step - loss: 0.4121 - acc: 0.8153 - f1_m: 0.4740 - precision_m: 0.5500 - recall_m: 0.4176\n",
            "Epoch 48/50\n",
            "109242/109242 [==============================] - 80s 730us/step - loss: 0.4120 - acc: 0.8153 - f1_m: 0.4742 - precision_m: 0.5510 - recall_m: 0.4175\n",
            "Epoch 49/50\n",
            "109242/109242 [==============================] - 80s 729us/step - loss: 0.4120 - acc: 0.8154 - f1_m: 0.4750 - precision_m: 0.5507 - recall_m: 0.4185\n",
            "Epoch 50/50\n",
            "109242/109242 [==============================] - 79s 722us/step - loss: 0.4120 - acc: 0.8154 - f1_m: 0.4744 - precision_m: 0.5508 - recall_m: 0.4179\n"
          ],
          "name": "stdout"
        },
        {
          "output_type": "execute_result",
          "data": {
            "text/plain": [
              "<keras.callbacks.History at 0x7f8306ce7dd8>"
            ]
          },
          "metadata": {
            "tags": []
          },
          "execution_count": 25
        }
      ]
    },
    {
      "cell_type": "code",
      "metadata": {
        "id": "vnF7wZVDrpoy",
        "colab_type": "code",
        "outputId": "cce43912-7f52-4396-9fe6-f5a3a643b006",
        "colab": {
          "base_uri": "https://localhost:8080/",
          "height": 425
        }
      },
      "source": [
        "from keras.models import load_model\n",
        "\n",
        "model = load_model('/content/1106924_1dconv_reg.h5',custom_objects = {'f1_m': f1_m,  'precision_m': precision_m, 'recall_m' : recall_m})\n",
        "model.summary()"
      ],
      "execution_count": 21,
      "outputs": [
        {
          "output_type": "stream",
          "text": [
            "Model: \"sequential_1\"\n",
            "_________________________________________________________________\n",
            "Layer (type)                 Output Shape              Param #   \n",
            "=================================================================\n",
            "conv1d_1 (Conv1D)            (None, 1991, 128)         1408      \n",
            "_________________________________________________________________\n",
            "conv1d_2 (Conv1D)            (None, 1982, 128)         163968    \n",
            "_________________________________________________________________\n",
            "max_pooling1d_1 (MaxPooling1 (None, 660, 128)          0         \n",
            "_________________________________________________________________\n",
            "conv1d_3 (Conv1D)            (None, 651, 256)          327936    \n",
            "_________________________________________________________________\n",
            "conv1d_4 (Conv1D)            (None, 642, 256)          655616    \n",
            "_________________________________________________________________\n",
            "global_average_pooling1d_1 ( (None, 256)               0         \n",
            "_________________________________________________________________\n",
            "dropout_1 (Dropout)          (None, 256)               0         \n",
            "_________________________________________________________________\n",
            "dense_1 (Dense)              (None, 5)                 1285      \n",
            "=================================================================\n",
            "Total params: 1,150,213\n",
            "Trainable params: 1,150,213\n",
            "Non-trainable params: 0\n",
            "_________________________________________________________________\n"
          ],
          "name": "stdout"
        }
      ]
    },
    {
      "cell_type": "code",
      "metadata": {
        "id": "TAzzABZvKe_o",
        "colab_type": "code",
        "outputId": "9a32b6cc-4daf-4b07-e72f-9df416be718b",
        "colab": {
          "base_uri": "https://localhost:8080/",
          "height": 102
        }
      },
      "source": [
        "loss, accuracy, f1_score, precision, recall = model.evaluate(X_test, Y_test, verbose=0)\n",
        "\n",
        "print('loss:\\t', loss)\n",
        "print('accuracy:\\t', accuracy)\n",
        "print('f1_score:\\t', f1_score)\n",
        "print('precision:\\t', precision)\n",
        "print('recall:\\t', recall)"
      ],
      "execution_count": 26,
      "outputs": [
        {
          "output_type": "stream",
          "text": [
            "loss:\t 0.41282419631775413\n",
            "accuracy:\t 0.8153872535863147\n",
            "f1_score:\t 0.4737326902990599\n",
            "precision:\t 0.5508104965216153\n",
            "recall:\t 0.41736084411978297\n"
          ],
          "name": "stdout"
        }
      ]
    }
  ]
}